{
 "cells": [
  {
   "cell_type": "markdown",
   "id": "37442930",
   "metadata": {
    "papermill": {
     "duration": 0.032672,
     "end_time": "2021-08-26T13:40:18.218503",
     "exception": false,
     "start_time": "2021-08-26T13:40:18.185831",
     "status": "completed"
    },
    "tags": []
   },
   "source": [
    "This course covers the key Python skills you’ll need so you can start using Python for data science. \n",
    "\n",
    "We'll start with a brief overview of Python syntax, variable assignment, and arithmetic operators. If you have previous Python experience, you can [skip straight to the hands-on exercise](https://www.kaggle.com/kernels/fork/1275163)."
   ]
  },
  {
   "cell_type": "markdown",
   "id": "1cc7ded8",
   "metadata": {
    "papermill": {
     "duration": 0.025351,
     "end_time": "2021-08-26T13:40:18.271005",
     "exception": false,
     "start_time": "2021-08-26T13:40:18.245654",
     "status": "completed"
    },
    "tags": []
   },
   "source": [
    "# Hello, Python!\n",
    "\n",
    "Python was named for the British comedy troupe [Monty Python](https://en.wikipedia.org/wiki/Monty_Python), so we'll make our first Python program a homage to their skit about Spam.\n",
    "\n",
    "Just for fun, try reading over the code below and predicting what it's going to do when run. (If you have no idea, that's fine!)\n",
    "\n",
    "Then click the \"output\" button to see the results of our program."
   ]
  },
  {
   "cell_type": "code",
   "execution_count": 1,
   "id": "b3937d4e",
   "metadata": {
    "_kg_hide-output": true,
    "execution": {
     "iopub.execute_input": "2021-08-26T13:40:18.339796Z",
     "iopub.status.busy": "2021-08-26T13:40:18.339111Z",
     "iopub.status.idle": "2021-08-26T13:40:18.343451Z",
     "shell.execute_reply": "2021-08-26T13:40:18.342528Z"
    },
    "papermill": {
     "duration": 0.046674,
     "end_time": "2021-08-26T13:40:18.343686",
     "exception": false,
     "start_time": "2021-08-26T13:40:18.297012",
     "status": "completed"
    },
    "tags": []
   },
   "outputs": [
    {
     "name": "stdout",
     "output_type": "stream",
     "text": [
      "0\n",
      "But I don't want ANY spam!\n",
      "Spam Spam Spam Spam \n"
     ]
    }
   ],
   "source": [
    "spam_amount = 0\n",
    "print(spam_amount)\n",
    "\n",
    "# Ordering Spam, egg, Spam, Spam, bacon and Spam (4 more servings of Spam)\n",
    "spam_amount = spam_amount + 4\n",
    "\n",
    "if spam_amount > 0:\n",
    "    print(\"But I don't want ANY spam!\")\n",
    "\n",
    "viking_song = \"Spam \" * spam_amount\n",
    "print(viking_song)"
   ]
  },
  {
   "cell_type": "markdown",
   "id": "af67983c",
   "metadata": {
    "papermill": {
     "duration": 0.025622,
     "end_time": "2021-08-26T13:40:18.396458",
     "exception": false,
     "start_time": "2021-08-26T13:40:18.370836",
     "status": "completed"
    },
    "tags": []
   },
   "source": [
    "There's a lot to unpack here! This silly program demonstrates many important aspects of what Python code looks like and how it works. Let's review the code from top to bottom."
   ]
  },
  {
   "cell_type": "code",
   "execution_count": 2,
   "id": "be4cc71c",
   "metadata": {
    "collapsed": true,
    "execution": {
     "iopub.execute_input": "2021-08-26T13:40:18.454864Z",
     "iopub.status.busy": "2021-08-26T13:40:18.453766Z",
     "iopub.status.idle": "2021-08-26T13:40:18.457231Z",
     "shell.execute_reply": "2021-08-26T13:40:18.456702Z"
    },
    "jupyter": {
     "outputs_hidden": true
    },
    "papermill": {
     "duration": 0.03461,
     "end_time": "2021-08-26T13:40:18.457399",
     "exception": false,
     "start_time": "2021-08-26T13:40:18.422789",
     "status": "completed"
    },
    "tags": []
   },
   "outputs": [],
   "source": [
    "spam_amount = 0"
   ]
  },
  {
   "cell_type": "markdown",
   "id": "9abd50a7",
   "metadata": {
    "papermill": {
     "duration": 0.027473,
     "end_time": "2021-08-26T13:40:18.510871",
     "exception": false,
     "start_time": "2021-08-26T13:40:18.483398",
     "status": "completed"
    },
    "tags": []
   },
   "source": [
    "**Variable assignment:** Here we create a variable called `spam_amount` and assign it the value of 0 using `=`, which is called the assignment operator.\n",
    "\n",
    "> **Aside**: If you've programmed in certain other languages (like Java or C++), you might be noticing some things Python *doesn't* require us to do here:  \n",
    "- we don't need to \"declare\" `spam_amount` before assigning to it\n",
    "- we don't need to tell Python what type of value `spam_amount` is going to refer to. In fact, we can even go on to reassign `spam_amount` to refer to a different sort of thing like a string or a boolean."
   ]
  },
  {
   "cell_type": "code",
   "execution_count": 3,
   "id": "51d2a19a",
   "metadata": {
    "_kg_hide-output": false,
    "collapsed": true,
    "execution": {
     "iopub.execute_input": "2021-08-26T13:40:18.568807Z",
     "iopub.status.busy": "2021-08-26T13:40:18.567872Z",
     "iopub.status.idle": "2021-08-26T13:40:18.570896Z",
     "shell.execute_reply": "2021-08-26T13:40:18.571410Z"
    },
    "jupyter": {
     "outputs_hidden": true
    },
    "papermill": {
     "duration": 0.035028,
     "end_time": "2021-08-26T13:40:18.571592",
     "exception": false,
     "start_time": "2021-08-26T13:40:18.536564",
     "status": "completed"
    },
    "tags": []
   },
   "outputs": [
    {
     "name": "stdout",
     "output_type": "stream",
     "text": [
      "0\n"
     ]
    }
   ],
   "source": [
    "print(spam_amount)"
   ]
  },
  {
   "cell_type": "markdown",
   "id": "fc557234",
   "metadata": {
    "papermill": {
     "duration": 0.025735,
     "end_time": "2021-08-26T13:40:18.623419",
     "exception": false,
     "start_time": "2021-08-26T13:40:18.597684",
     "status": "completed"
    },
    "tags": []
   },
   "source": [
    "**Function calls:**. `print` is a Python function that displays the value passed to it on the screen. We call functions by putting parentheses after their name, and putting the inputs (or *arguments*) to the function in those parentheses."
   ]
  },
  {
   "cell_type": "code",
   "execution_count": 4,
   "id": "a6c8488d",
   "metadata": {
    "_kg_hide-output": false,
    "collapsed": true,
    "execution": {
     "iopub.execute_input": "2021-08-26T13:40:18.682008Z",
     "iopub.status.busy": "2021-08-26T13:40:18.681170Z",
     "iopub.status.idle": "2021-08-26T13:40:18.684606Z",
     "shell.execute_reply": "2021-08-26T13:40:18.685109Z"
    },
    "jupyter": {
     "outputs_hidden": true
    },
    "papermill": {
     "duration": 0.03511,
     "end_time": "2021-08-26T13:40:18.685333",
     "exception": false,
     "start_time": "2021-08-26T13:40:18.650223",
     "status": "completed"
    },
    "tags": []
   },
   "outputs": [],
   "source": [
    "# Ordering Spam, egg, Spam, Spam, bacon and Spam (4 more servings of Spam)\n",
    "spam_amount = spam_amount + 4"
   ]
  },
  {
   "cell_type": "markdown",
   "id": "bfca3c73",
   "metadata": {
    "papermill": {
     "duration": 0.026352,
     "end_time": "2021-08-26T13:40:18.740299",
     "exception": false,
     "start_time": "2021-08-26T13:40:18.713947",
     "status": "completed"
    },
    "tags": []
   },
   "source": [
    "The first line above is a **comment**. In Python, comments begin with the `#` symbol.\n",
    "\n",
    "Next we see an example of reassignment. Reassigning the value of an existing variable looks just the same as creating a variable - it still uses the `=` assignment operator.\n",
    "\n",
    "In this case, the value we're assigning to `spam_amount` involves some simple arithmetic on its previous value. When it encounters this line, Python evaluates the expression on the right-hand-side of the `=` (0 + 4 = 4), and then assigns that value to the variable on the left-hand-side."
   ]
  },
  {
   "cell_type": "code",
   "execution_count": 5,
   "id": "9fd1b37d",
   "metadata": {
    "_kg_hide-output": false,
    "collapsed": true,
    "execution": {
     "iopub.execute_input": "2021-08-26T13:40:18.799831Z",
     "iopub.status.busy": "2021-08-26T13:40:18.799026Z",
     "iopub.status.idle": "2021-08-26T13:40:18.803404Z",
     "shell.execute_reply": "2021-08-26T13:40:18.802735Z"
    },
    "jupyter": {
     "outputs_hidden": true
    },
    "papermill": {
     "duration": 0.036461,
     "end_time": "2021-08-26T13:40:18.803560",
     "exception": false,
     "start_time": "2021-08-26T13:40:18.767099",
     "status": "completed"
    },
    "tags": []
   },
   "outputs": [
    {
     "name": "stdout",
     "output_type": "stream",
     "text": [
      "But I don't want ANY spam!\n",
      "Spam Spam Spam\n"
     ]
    }
   ],
   "source": [
    "if spam_amount > 0:\n",
    "    print(\"But I don't want ANY spam!\")\n",
    "\n",
    "viking_song = \"Spam Spam Spam\"\n",
    "print(viking_song)"
   ]
  },
  {
   "cell_type": "markdown",
   "id": "dc7308e1",
   "metadata": {
    "papermill": {
     "duration": 0.0277,
     "end_time": "2021-08-26T13:40:18.861594",
     "exception": false,
     "start_time": "2021-08-26T13:40:18.833894",
     "status": "completed"
    },
    "tags": []
   },
   "source": [
    "We won't talk much about \"conditionals\" until later, but, even if you've never coded before, you can probably guess what this does. Python is prized for its readability and the simplicity. \n",
    "\n",
    "Note how we indicated which code belongs to the `if`. `\"But I don't want ANY spam!\"` is only supposed to be printed if `spam_amount` is positive. But the later code (like `print(viking_song)`) should be executed no matter what. How do we (and Python) know that?\n",
    "\n",
    "The colon (`:`) at the end of the `if` line indicates that a new **code block** is starting. Subsequent lines which are indented are part of that code block. \n",
    "> **Aside**: If you've coded before, you might know that some other languages use `{`curly braces`}` to mark the beginning and end of code blocks. Python's use of meaningful whitespace can be surprising to programmers who are accustomed to other languages, but in practice it can lead to more consistent and readable code than languages that do not enforce indentation of code blocks. \n",
    "\n",
    "The later lines dealing with `viking_song` are not indented with an extra 4 spaces, so they're not a part of the `if`'s code block. We'll see more examples of indented code blocks later when we define functions and using loops.\n",
    "\n",
    "This code snippet is also our first sighting of a **string** in Python:\n",
    "\n",
    "```python\n",
    "\"But I don't want ANY spam!\"\n",
    "```\n",
    "\n",
    "Strings can be marked either by double or single quotation marks. (But because this particular string *contains* a single-quote character, we might confuse Python by trying to surround it with single-quotes, unless we're careful.)"
   ]
  },
  {
   "cell_type": "code",
   "execution_count": 6,
   "id": "bd861e1c",
   "metadata": {
    "_kg_hide-output": false,
    "collapsed": true,
    "execution": {
     "iopub.execute_input": "2021-08-26T13:40:18.921389Z",
     "iopub.status.busy": "2021-08-26T13:40:18.920655Z",
     "iopub.status.idle": "2021-08-26T13:40:18.924960Z",
     "shell.execute_reply": "2021-08-26T13:40:18.924378Z"
    },
    "jupyter": {
     "outputs_hidden": true
    },
    "papermill": {
     "duration": 0.036114,
     "end_time": "2021-08-26T13:40:18.925111",
     "exception": false,
     "start_time": "2021-08-26T13:40:18.888997",
     "status": "completed"
    },
    "tags": []
   },
   "outputs": [
    {
     "name": "stdout",
     "output_type": "stream",
     "text": [
      "Spam Spam Spam Spam \n"
     ]
    }
   ],
   "source": [
    "viking_song = \"Spam \" * spam_amount\n",
    "print(viking_song)"
   ]
  },
  {
   "cell_type": "markdown",
   "id": "25abfef9",
   "metadata": {
    "papermill": {
     "duration": 0.027111,
     "end_time": "2021-08-26T13:40:18.980191",
     "exception": false,
     "start_time": "2021-08-26T13:40:18.953080",
     "status": "completed"
    },
    "tags": []
   },
   "source": [
    "The `*` operator can be used to multiply two numbers (`3 * 3` evaluates to 9), but we can also multiply a string by a number, to get a version that's been repeated that many times. Python offers a number of cheeky little time-saving tricks like this where operators like `*` and `+` have a different meaning depending on what kind of thing they're applied to. (The technical term for this is [operator overloading](https://en.wikipedia.org/wiki/Operator_overloading).)"
   ]
  },
  {
   "cell_type": "markdown",
   "id": "814d19d2",
   "metadata": {
    "papermill": {
     "duration": 0.02784,
     "end_time": "2021-08-26T13:40:19.035010",
     "exception": false,
     "start_time": "2021-08-26T13:40:19.007170",
     "status": "completed"
    },
    "tags": []
   },
   "source": [
    "## Numbers and arithmetic in Python\n",
    "\n",
    "We've already seen an example of a variable containing a number above:"
   ]
  },
  {
   "cell_type": "code",
   "execution_count": 7,
   "id": "1b01f8f2",
   "metadata": {
    "collapsed": true,
    "execution": {
     "iopub.execute_input": "2021-08-26T13:40:19.096541Z",
     "iopub.status.busy": "2021-08-26T13:40:19.095467Z",
     "iopub.status.idle": "2021-08-26T13:40:19.098441Z",
     "shell.execute_reply": "2021-08-26T13:40:19.097808Z"
    },
    "jupyter": {
     "outputs_hidden": true
    },
    "papermill": {
     "duration": 0.03541,
     "end_time": "2021-08-26T13:40:19.098587",
     "exception": false,
     "start_time": "2021-08-26T13:40:19.063177",
     "status": "completed"
    },
    "tags": []
   },
   "outputs": [],
   "source": [
    "spam_amount = 0"
   ]
  },
  {
   "cell_type": "markdown",
   "id": "123a9035",
   "metadata": {
    "papermill": {
     "duration": 0.028792,
     "end_time": "2021-08-26T13:40:19.155922",
     "exception": false,
     "start_time": "2021-08-26T13:40:19.127130",
     "status": "completed"
    },
    "tags": []
   },
   "source": [
    "\"Number\" is a fine informal name for the kind of thing, but if we wanted to be more technical, we could ask Python how it would describe the type of thing that `spam_amount` is:"
   ]
  },
  {
   "cell_type": "code",
   "execution_count": 8,
   "id": "d7925f10",
   "metadata": {
    "collapsed": true,
    "execution": {
     "iopub.execute_input": "2021-08-26T13:40:19.215437Z",
     "iopub.status.busy": "2021-08-26T13:40:19.214757Z",
     "iopub.status.idle": "2021-08-26T13:40:19.222861Z",
     "shell.execute_reply": "2021-08-26T13:40:19.223383Z"
    },
    "jupyter": {
     "outputs_hidden": true
    },
    "papermill": {
     "duration": 0.03885,
     "end_time": "2021-08-26T13:40:19.223558",
     "exception": false,
     "start_time": "2021-08-26T13:40:19.184708",
     "status": "completed"
    },
    "tags": []
   },
   "outputs": [
    {
     "data": {
      "text/plain": [
       "int"
      ]
     },
     "execution_count": 8,
     "metadata": {},
     "output_type": "execute_result"
    }
   ],
   "source": [
    "type(spam_amount)"
   ]
  },
  {
   "cell_type": "markdown",
   "id": "542aaf05",
   "metadata": {
    "papermill": {
     "duration": 0.028252,
     "end_time": "2021-08-26T13:40:19.280990",
     "exception": false,
     "start_time": "2021-08-26T13:40:19.252738",
     "status": "completed"
    },
    "tags": []
   },
   "source": [
    "It's an `int` - short for integer. There's another sort of number we commonly encounter in Python:"
   ]
  },
  {
   "cell_type": "code",
   "execution_count": 9,
   "id": "56eca912",
   "metadata": {
    "collapsed": true,
    "execution": {
     "iopub.execute_input": "2021-08-26T13:40:19.344886Z",
     "iopub.status.busy": "2021-08-26T13:40:19.342273Z",
     "iopub.status.idle": "2021-08-26T13:40:19.349465Z",
     "shell.execute_reply": "2021-08-26T13:40:19.348821Z"
    },
    "jupyter": {
     "outputs_hidden": true
    },
    "papermill": {
     "duration": 0.038982,
     "end_time": "2021-08-26T13:40:19.349618",
     "exception": false,
     "start_time": "2021-08-26T13:40:19.310636",
     "status": "completed"
    },
    "tags": []
   },
   "outputs": [
    {
     "data": {
      "text/plain": [
       "float"
      ]
     },
     "execution_count": 9,
     "metadata": {},
     "output_type": "execute_result"
    }
   ],
   "source": [
    "type(19.95)"
   ]
  },
  {
   "cell_type": "markdown",
   "id": "3145b590",
   "metadata": {
    "papermill": {
     "duration": 0.029151,
     "end_time": "2021-08-26T13:40:19.408121",
     "exception": false,
     "start_time": "2021-08-26T13:40:19.378970",
     "status": "completed"
    },
    "tags": []
   },
   "source": [
    "A `float` is a number with a decimal place - very useful for representing things like weights or proportions.\n",
    "\n",
    "`type()` is the second built-in function we've seen (after `print()`), and it's another good one to remember. It's very useful to be able to ask Python \"what kind of thing is this?\". "
   ]
  },
  {
   "cell_type": "markdown",
   "id": "467632d5",
   "metadata": {
    "papermill": {
     "duration": 0.031067,
     "end_time": "2021-08-26T13:40:19.469027",
     "exception": false,
     "start_time": "2021-08-26T13:40:19.437960",
     "status": "completed"
    },
    "tags": []
   },
   "source": [
    "A natural thing to want to do with numbers is perform arithmetic. We've seen the `+` operator for addition, and the `*` operator for multiplication. Python also has us covered for the rest of the basic buttons on your calculator:\n",
    "\n",
    "| Operator     | Name           | Description                                            |\n",
    "|--------------|----------------|--------------------------------------------------------|\n",
    "| ``a + b``    | Addition       | Sum of ``a`` and ``b``                                 |\n",
    "| ``a - b``    | Subtraction    | Difference of ``a`` and ``b``                          |\n",
    "| ``a * b``    | Multiplication | Product of ``a`` and ``b``                             |\n",
    "| ``a / b``    | True division  | Quotient of ``a`` and ``b``                            |\n",
    "| ``a // b``   | Floor division | Quotient of ``a`` and ``b``, removing fractional parts |\n",
    "| ``a % b``    | Modulus        | Integer remainder after division of ``a`` by ``b``     |\n",
    "| ``a ** b``   | Exponentiation | ``a`` raised to the power of ``b``                     |\n",
    "| ``-a``       | Negation       | The negative of ``a``                                  |\n",
    "\n",
    "<span style=\"display:none\"></span>\n",
    "\n",
    "One interesting observation here is that, whereas your calculator probably just has one button for division, Python can do two kinds. \"True division\" is basically what your calculator does:"
   ]
  },
  {
   "cell_type": "code",
   "execution_count": 10,
   "id": "56ffe746",
   "metadata": {
    "collapsed": true,
    "execution": {
     "iopub.execute_input": "2021-08-26T13:40:19.533391Z",
     "iopub.status.busy": "2021-08-26T13:40:19.532599Z",
     "iopub.status.idle": "2021-08-26T13:40:19.535713Z",
     "shell.execute_reply": "2021-08-26T13:40:19.536314Z"
    },
    "jupyter": {
     "outputs_hidden": true
    },
    "papermill": {
     "duration": 0.038318,
     "end_time": "2021-08-26T13:40:19.536512",
     "exception": false,
     "start_time": "2021-08-26T13:40:19.498194",
     "status": "completed"
    },
    "tags": []
   },
   "outputs": [
    {
     "name": "stdout",
     "output_type": "stream",
     "text": [
      "2.5\n",
      "3.0\n"
     ]
    }
   ],
   "source": [
    "print(5 / 2)\n",
    "print(6 / 2)"
   ]
  },
  {
   "cell_type": "markdown",
   "id": "e5afb0e2",
   "metadata": {
    "papermill": {
     "duration": 0.029013,
     "end_time": "2021-08-26T13:40:19.596302",
     "exception": false,
     "start_time": "2021-08-26T13:40:19.567289",
     "status": "completed"
    },
    "tags": []
   },
   "source": [
    "It always gives us a `float`. \n",
    "\n",
    "The `//` operator gives us a result that's rounded down to the next integer."
   ]
  },
  {
   "cell_type": "code",
   "execution_count": 11,
   "id": "4abaecdf",
   "metadata": {
    "collapsed": true,
    "execution": {
     "iopub.execute_input": "2021-08-26T13:40:19.662210Z",
     "iopub.status.busy": "2021-08-26T13:40:19.661169Z",
     "iopub.status.idle": "2021-08-26T13:40:19.666463Z",
     "shell.execute_reply": "2021-08-26T13:40:19.665540Z"
    },
    "jupyter": {
     "outputs_hidden": true
    },
    "papermill": {
     "duration": 0.039903,
     "end_time": "2021-08-26T13:40:19.666668",
     "exception": false,
     "start_time": "2021-08-26T13:40:19.626765",
     "status": "completed"
    },
    "tags": []
   },
   "outputs": [
    {
     "name": "stdout",
     "output_type": "stream",
     "text": [
      "2\n",
      "3\n"
     ]
    }
   ],
   "source": [
    "print(5 // 2)\n",
    "print(6 // 2)"
   ]
  },
  {
   "cell_type": "markdown",
   "id": "b59f37c4",
   "metadata": {
    "papermill": {
     "duration": 0.032077,
     "end_time": "2021-08-26T13:40:19.730880",
     "exception": false,
     "start_time": "2021-08-26T13:40:19.698803",
     "status": "completed"
    },
    "tags": []
   },
   "source": [
    "Can you think of where this would be useful? You'll see an example soon in the coding challenges."
   ]
  },
  {
   "cell_type": "markdown",
   "id": "aa09cd73",
   "metadata": {
    "papermill": {
     "duration": 0.031023,
     "end_time": "2021-08-26T13:40:19.792789",
     "exception": false,
     "start_time": "2021-08-26T13:40:19.761766",
     "status": "completed"
    },
    "tags": []
   },
   "source": [
    "### Order of operations\n",
    "\n",
    "The arithmetic we learned in primary school has conventions about the order in which operations are evaluated. Some remember these by a mnemonic such as **PEMDAS** - **P**arentheses, **E**xponents, **M**ultiplication/**D**ivision, **A**ddition/**S**ubtraction.\n",
    "\n",
    "Python follows similar rules about which calculations to perform first. They're mostly pretty intuitive."
   ]
  },
  {
   "cell_type": "code",
   "execution_count": 12,
   "id": "630985d0",
   "metadata": {
    "collapsed": true,
    "execution": {
     "iopub.execute_input": "2021-08-26T13:40:19.859615Z",
     "iopub.status.busy": "2021-08-26T13:40:19.858829Z",
     "iopub.status.idle": "2021-08-26T13:40:19.862048Z",
     "shell.execute_reply": "2021-08-26T13:40:19.862673Z"
    },
    "jupyter": {
     "outputs_hidden": true
    },
    "papermill": {
     "duration": 0.039414,
     "end_time": "2021-08-26T13:40:19.862856",
     "exception": false,
     "start_time": "2021-08-26T13:40:19.823442",
     "status": "completed"
    },
    "tags": []
   },
   "outputs": [
    {
     "data": {
      "text/plain": [
       "7"
      ]
     },
     "execution_count": 12,
     "metadata": {},
     "output_type": "execute_result"
    }
   ],
   "source": [
    "8 - 3 + 2"
   ]
  },
  {
   "cell_type": "code",
   "execution_count": 13,
   "id": "9c05487a",
   "metadata": {
    "collapsed": true,
    "execution": {
     "iopub.execute_input": "2021-08-26T13:40:19.930039Z",
     "iopub.status.busy": "2021-08-26T13:40:19.929227Z",
     "iopub.status.idle": "2021-08-26T13:40:19.933766Z",
     "shell.execute_reply": "2021-08-26T13:40:19.933081Z"
    },
    "jupyter": {
     "outputs_hidden": true
    },
    "papermill": {
     "duration": 0.040812,
     "end_time": "2021-08-26T13:40:19.933909",
     "exception": false,
     "start_time": "2021-08-26T13:40:19.893097",
     "status": "completed"
    },
    "tags": []
   },
   "outputs": [
    {
     "data": {
      "text/plain": [
       "5"
      ]
     },
     "execution_count": 13,
     "metadata": {},
     "output_type": "execute_result"
    }
   ],
   "source": [
    "-3 + 4 * 2"
   ]
  },
  {
   "cell_type": "markdown",
   "id": "ed8bb90e",
   "metadata": {
    "papermill": {
     "duration": 0.030671,
     "end_time": "2021-08-26T13:40:19.997773",
     "exception": false,
     "start_time": "2021-08-26T13:40:19.967102",
     "status": "completed"
    },
    "tags": []
   },
   "source": [
    "Sometimes the default order of operations isn't what we want:"
   ]
  },
  {
   "cell_type": "code",
   "execution_count": 14,
   "id": "00d00799",
   "metadata": {
    "collapsed": true,
    "execution": {
     "iopub.execute_input": "2021-08-26T13:40:20.065689Z",
     "iopub.status.busy": "2021-08-26T13:40:20.064881Z",
     "iopub.status.idle": "2021-08-26T13:40:20.072117Z",
     "shell.execute_reply": "2021-08-26T13:40:20.071408Z"
    },
    "jupyter": {
     "outputs_hidden": true
    },
    "papermill": {
     "duration": 0.043075,
     "end_time": "2021-08-26T13:40:20.072292",
     "exception": false,
     "start_time": "2021-08-26T13:40:20.029217",
     "status": "completed"
    },
    "tags": []
   },
   "outputs": [
    {
     "name": "stdout",
     "output_type": "stream",
     "text": [
      "Height in meters = 26.9 ?\n"
     ]
    }
   ],
   "source": [
    "hat_height_cm = 25\n",
    "my_height_cm = 190\n",
    "# How tall am I, in meters, when wearing my hat?\n",
    "total_height_meters = hat_height_cm + my_height_cm / 100\n",
    "print(\"Height in meters =\", total_height_meters, \"?\")"
   ]
  },
  {
   "cell_type": "markdown",
   "id": "ab5e30d8",
   "metadata": {
    "papermill": {
     "duration": 0.031373,
     "end_time": "2021-08-26T13:40:20.136471",
     "exception": false,
     "start_time": "2021-08-26T13:40:20.105098",
     "status": "completed"
    },
    "tags": []
   },
   "source": [
    "Parentheses are useful here. You can add them to force Python to evaluate sub-expressions in whatever order you want."
   ]
  },
  {
   "cell_type": "code",
   "execution_count": 15,
   "id": "08305ab3",
   "metadata": {
    "execution": {
     "iopub.execute_input": "2021-08-26T13:40:20.205095Z",
     "iopub.status.busy": "2021-08-26T13:40:20.203943Z",
     "iopub.status.idle": "2021-08-26T13:40:20.208339Z",
     "shell.execute_reply": "2021-08-26T13:40:20.207764Z"
    },
    "papermill": {
     "duration": 0.039768,
     "end_time": "2021-08-26T13:40:20.208494",
     "exception": false,
     "start_time": "2021-08-26T13:40:20.168726",
     "status": "completed"
    },
    "tags": []
   },
   "outputs": [
    {
     "name": "stdout",
     "output_type": "stream",
     "text": [
      "Height in meters = 2.15\n"
     ]
    }
   ],
   "source": [
    "total_height_meters = (hat_height_cm + my_height_cm) / 100\n",
    "print(\"Height in meters =\", total_height_meters)"
   ]
  },
  {
   "cell_type": "markdown",
   "id": "41729e5e",
   "metadata": {
    "papermill": {
     "duration": 0.031935,
     "end_time": "2021-08-26T13:40:20.272428",
     "exception": false,
     "start_time": "2021-08-26T13:40:20.240493",
     "status": "completed"
    },
    "tags": []
   },
   "source": [
    "### Builtin functions for working with numbers\n",
    "\n",
    "`min` and `max` return the minimum and maximum of their arguments, respectively..."
   ]
  },
  {
   "cell_type": "code",
   "execution_count": 16,
   "id": "8f1538f8",
   "metadata": {
    "execution": {
     "iopub.execute_input": "2021-08-26T13:40:20.341576Z",
     "iopub.status.busy": "2021-08-26T13:40:20.340846Z",
     "iopub.status.idle": "2021-08-26T13:40:20.344159Z",
     "shell.execute_reply": "2021-08-26T13:40:20.344691Z"
    },
    "papermill": {
     "duration": 0.040704,
     "end_time": "2021-08-26T13:40:20.344863",
     "exception": false,
     "start_time": "2021-08-26T13:40:20.304159",
     "status": "completed"
    },
    "tags": []
   },
   "outputs": [
    {
     "name": "stdout",
     "output_type": "stream",
     "text": [
      "1\n",
      "3\n"
     ]
    }
   ],
   "source": [
    "print(min(1, 2, 3))\n",
    "print(max(1, 2, 3))"
   ]
  },
  {
   "cell_type": "markdown",
   "id": "e7b19308",
   "metadata": {
    "papermill": {
     "duration": 0.031968,
     "end_time": "2021-08-26T13:40:20.409784",
     "exception": false,
     "start_time": "2021-08-26T13:40:20.377816",
     "status": "completed"
    },
    "tags": []
   },
   "source": [
    "`abs` returns the absolute value of an argument:"
   ]
  },
  {
   "cell_type": "code",
   "execution_count": 17,
   "id": "2a866b09",
   "metadata": {
    "execution": {
     "iopub.execute_input": "2021-08-26T13:40:20.479426Z",
     "iopub.status.busy": "2021-08-26T13:40:20.478417Z",
     "iopub.status.idle": "2021-08-26T13:40:20.484332Z",
     "shell.execute_reply": "2021-08-26T13:40:20.484835Z"
    },
    "papermill": {
     "duration": 0.042146,
     "end_time": "2021-08-26T13:40:20.485016",
     "exception": false,
     "start_time": "2021-08-26T13:40:20.442870",
     "status": "completed"
    },
    "tags": []
   },
   "outputs": [
    {
     "name": "stdout",
     "output_type": "stream",
     "text": [
      "32\n",
      "32\n"
     ]
    }
   ],
   "source": [
    "print(abs(32))\n",
    "print(abs(-32))"
   ]
  },
  {
   "cell_type": "markdown",
   "id": "60d567a9",
   "metadata": {
    "papermill": {
     "duration": 0.035333,
     "end_time": "2021-08-26T13:40:20.553679",
     "exception": false,
     "start_time": "2021-08-26T13:40:20.518346",
     "status": "completed"
    },
    "tags": []
   },
   "source": [
    "In addition to being the names of Python's two main numerical types, `int` and `float` can also be called as functions which convert their arguments to the corresponding type:"
   ]
  },
  {
   "cell_type": "code",
   "execution_count": 18,
   "id": "399256e2",
   "metadata": {
    "collapsed": true,
    "execution": {
     "iopub.execute_input": "2021-08-26T13:40:20.623873Z",
     "iopub.status.busy": "2021-08-26T13:40:20.623121Z",
     "iopub.status.idle": "2021-08-26T13:40:20.629997Z",
     "shell.execute_reply": "2021-08-26T13:40:20.630555Z"
    },
    "jupyter": {
     "outputs_hidden": true
    },
    "papermill": {
     "duration": 0.043577,
     "end_time": "2021-08-26T13:40:20.630777",
     "exception": false,
     "start_time": "2021-08-26T13:40:20.587200",
     "status": "completed"
    },
    "tags": []
   },
   "outputs": [
    {
     "name": "stdout",
     "output_type": "stream",
     "text": [
      "10.0\n",
      "3\n",
      "808\n"
     ]
    }
   ],
   "source": [
    "print(float(10))\n",
    "print(int(3.33))\n",
    "# They can even be called on strings!\n",
    "print(int('807') + 1)"
   ]
  },
  {
   "cell_type": "markdown",
   "id": "9bf99f9a",
   "metadata": {
    "papermill": {
     "duration": 0.033299,
     "end_time": "2021-08-26T13:40:20.698183",
     "exception": false,
     "start_time": "2021-08-26T13:40:20.664884",
     "status": "completed"
    },
    "tags": []
   },
   "source": [
    "# Your Turn\n",
    "\n",
    "Now is your chance. Try your **[first Python programming exercise](https://www.kaggle.com/kernels/fork/1275163)**!"
   ]
  },
  {
   "cell_type": "markdown",
   "id": "f7e9e0dd",
   "metadata": {
    "papermill": {
     "duration": 0.033077,
     "end_time": "2021-08-26T13:40:20.765806",
     "exception": false,
     "start_time": "2021-08-26T13:40:20.732729",
     "status": "completed"
    },
    "tags": []
   },
   "source": [
    "---\n",
    "\n",
    "\n",
    "\n",
    "\n",
    "*Have questions or comments? Visit the [Learn Discussion forum](https://www.kaggle.com/learn-forum/161283) to chat with other Learners.*"
   ]
  }
 ],
 "metadata": {
  "kernelspec": {
   "display_name": "Python 3",
   "language": "python",
   "name": "python3"
  },
  "language_info": {
   "codemirror_mode": {
    "name": "ipython",
    "version": 3
   },
   "file_extension": ".py",
   "mimetype": "text/x-python",
   "name": "python",
   "nbconvert_exporter": "python",
   "pygments_lexer": "ipython3",
   "version": "3.7.10"
  },
  "papermill": {
   "default_parameters": {},
   "duration": 12.702403,
   "end_time": "2021-08-26T13:40:21.510493",
   "environment_variables": {},
   "exception": null,
   "input_path": "__notebook__.ipynb",
   "output_path": "__notebook__.ipynb",
   "parameters": {},
   "start_time": "2021-08-26T13:40:08.808090",
   "version": "2.3.3"
  }
 },
 "nbformat": 4,
 "nbformat_minor": 5
}
